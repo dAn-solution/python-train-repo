{
 "cells": [
  {
   "cell_type": "code",
   "execution_count": 8,
   "metadata": {},
   "outputs": [
    {
     "name": "stdout",
     "output_type": "stream",
     "text": [
      "[[0, 0, 0, 0, 0], [0, 0, 0, 0, 0], [0, 0, 0, 0, 0], [0, 0, 0, 0, 0], [0, 0, 0, 0, 0]]\n",
      "5\n"
     ]
    }
   ],
   "source": [
    "queue_assignment = 5\n",
    "swirl_list = [[0 for _ in range(queue_assignment)] for _ in range(queue_assignment)]\n",
    "print(swirl_list)\n",
    "print(len(swirl_list))"
   ]
  },
  {
   "cell_type": "code",
   "execution_count": 2,
   "metadata": {},
   "outputs": [],
   "source": [
    "set_num_list = []\n",
    "set_skip_num = 3\n",
    "temp = 1\n",
    "for i in range(1, queue_assignment**2+1):\n",
    "    set_num_list += [temp]\n",
    "    temp += set_skip_num"
   ]
  },
  {
   "cell_type": "code",
   "execution_count": 13,
   "metadata": {},
   "outputs": [
    {
     "name": "stdout",
     "output_type": "stream",
     "text": [
      "[[1, 4, 7, 10, 13, 16, 19, 22, 25, 28, 31, 34, 37, 40, 43],\n",
      " [166, 169, 172, 175, 178, 181, 184, 187, 190, 193, 196, 199, 202, 205, 46],\n",
      " [163, 310, 313, 316, 319, 322, 325, 328, 331, 334, 337, 340, 343, 208, 49],\n",
      " [160, 307, 430, 433, 436, 439, 442, 445, 448, 451, 454, 457, 346, 211, 52],\n",
      " [157, 304, 427, 526, 529, 532, 535, 538, 541, 544, 547, 460, 349, 214, 55],\n",
      " [154, 301, 424, 523, 598, 601, 604, 607, 610, 613, 550, 463, 352, 217, 58],\n",
      " [151, 298, 421, 520, 595, 646, 649, 652, 655, 616, 553, 466, 355, 220, 61],\n",
      " [148, 295, 418, 517, 592, 643, 670, 673, 658, 619, 556, 469, 358, 223, 64],\n",
      " [145, 292, 415, 514, 589, 640, 667, 664, 661, 622, 559, 472, 361, 226, 67],\n",
      " [142, 289, 412, 511, 586, 637, 634, 631, 628, 625, 562, 475, 364, 229, 70],\n",
      " [139, 286, 409, 508, 583, 580, 577, 574, 571, 568, 565, 478, 367, 232, 73],\n",
      " [136, 283, 406, 505, 502, 499, 496, 493, 490, 487, 484, 481, 370, 235, 76],\n",
      " [133, 280, 403, 400, 397, 394, 391, 388, 385, 382, 379, 376, 373, 238, 79],\n",
      " [130, 277, 274, 271, 268, 265, 262, 259, 256, 253, 250, 247, 244, 241, 82],\n",
      " [127, 124, 121, 118, 115, 112, 109, 106, 103, 100, 97, 94, 91, 88, 85]]\n"
     ]
    }
   ],
   "source": [
    "# swirl_list\n",
    "def swirl_list(queue_num, set_skip_num):\n",
    "    \"\"\"\n",
    "        渦巻きリスト（右回り）出力関数\n",
    "        行単位か列単位かで処理を分けている。またその中でセット順番が\n",
    "        順か逆かでfor文での変数セットを分けている\n",
    "\n",
    "        Parameters\n",
    "        ----------\n",
    "        queue_num : int\n",
    "            求めるリストの行列の数\n",
    "        set_skip_num : int\n",
    "            １から始まる渦巻き数字のskip数\n",
    "\n",
    "        Returns\n",
    "        -------\n",
    "        result_list : list\n",
    "            渦巻きデータをセットしたリスト\n",
    "    \"\"\"\n",
    "    # 必要数の０をリストにセット\n",
    "    result_list = [[0 for _ in range(queue_num)] for _ in range(queue_num)]\n",
    "    # 渦巻きデータセット初期処理\n",
    "    set_num_temp = 1 - set_skip_num\n",
    "    queue_switch = True # True:行 False:列\n",
    "    reverse_switch = True # True:正 false:負\n",
    "    set_count = 0\n",
    "    first_line, first_col = 0, 0\n",
    "    last_line, last_col = queue_num - 1, queue_num - 1\n",
    "    start_num = first_col\n",
    "    end_num = last_col\n",
    "    skip_num = 1\n",
    "    i = first_line\n",
    "    while True:\n",
    "        if queue_switch: # 行単位の処理\n",
    "            for j in range(start_num, end_num, skip_num):\n",
    "                set_num_temp += set_skip_num\n",
    "                result_list[i][j] = set_num_temp\n",
    "                set_count += 1\n",
    "            if reverse_switch:\n",
    "                start_num = first_col\n",
    "                end_num = last_line\n",
    "                skip_num = 1\n",
    "                j = last_col\n",
    "                first_line += 1\n",
    "            else:\n",
    "                start_num = last_line\n",
    "                end_num = first_line\n",
    "                skip_num = -1\n",
    "                j = first_col\n",
    "                last_line = last_line - 1\n",
    "            queue_switch = False\n",
    "        else: # 列単位の処理\n",
    "            for i in range(start_num, end_num, skip_num):\n",
    "                set_num_temp += set_skip_num\n",
    "                result_list[i][j] = set_num_temp\n",
    "                set_count += 1\n",
    "            if reverse_switch:\n",
    "                start_num = last_line\n",
    "                end_num = first_col\n",
    "                skip_num = -1\n",
    "                i = last_line\n",
    "                last_col = last_col - 1\n",
    "                reverse_switch = False\n",
    "            else:\n",
    "                start_num = first_col\n",
    "                end_num = last_col\n",
    "                skip_num = 1\n",
    "                i = first_line\n",
    "                first_col += 1\n",
    "                reverse_switch = True\n",
    "            queue_switch = True\n",
    "        if start_num == end_num:\n",
    "            end_num += 1\n",
    "        if set_count >= queue_num**2:\n",
    "            break\n",
    "    return result_list\n",
    "\n",
    "\n",
    "import pprint\n",
    "print_list = swirl_list(15, 3)\n",
    "pprint.pprint(print_list, width=100)"
   ]
  },
  {
   "cell_type": "code",
   "execution_count": 13,
   "metadata": {},
   "outputs": [
    {
     "name": "stdout",
     "output_type": "stream",
     "text": [
      "3\n"
     ]
    }
   ],
   "source": [
    "\n",
    "for i in range(3,4,1):\n",
    "    print(i)\n",
    "# print(i)"
   ]
  },
  {
   "cell_type": "code",
   "execution_count": null,
   "metadata": {},
   "outputs": [],
   "source": []
  }
 ],
 "metadata": {
  "kernelspec": {
   "display_name": "Python 3",
   "language": "python",
   "name": "python3"
  },
  "language_info": {
   "codemirror_mode": {
    "name": "ipython",
    "version": 3
   },
   "file_extension": ".py",
   "mimetype": "text/x-python",
   "name": "python",
   "nbconvert_exporter": "python",
   "pygments_lexer": "ipython3",
   "version": "3.7.4"
  }
 },
 "nbformat": 4,
 "nbformat_minor": 4
}
