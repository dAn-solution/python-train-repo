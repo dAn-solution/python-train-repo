{
 "cells": [
  {
   "cell_type": "code",
   "execution_count": 9,
   "metadata": {},
   "outputs": [
    {
     "name": "stdout",
     "output_type": "stream",
     "text": [
      "M     I\n"
     ]
    }
   ],
   "source": [
    "def convert_to_roman(num):\n",
    "    roman_num = []\n",
    "    if num > 3999:\n",
    "        return roman_num\n",
    "    \n",
    "    num_chk = num // 1000\n",
    "    num = num % 1000\n",
    "    roman_num.append(num_chk*\"M\")\n",
    "    if num == 0:\n",
    "        return roman_num\n",
    "\n",
    "    num_chk = num // 500\n",
    "    num = num % 500\n",
    "    roman_num.append(num_chk*\"D\")\n",
    "    if num == 0:\n",
    "        return roman_num \n",
    "\n",
    "    num_chk = num // 100\n",
    "    num = num % 100\n",
    "    roman_num.append(num_chk*\"C\")\n",
    "    if num == 0:\n",
    "        return roman_num\n",
    "    \n",
    "    num_chk = num // 50\n",
    "    num = num % 50\n",
    "    roman_num.append(num_chk*\"L\")\n",
    "    if num == 0:\n",
    "        return roman_num\n",
    "    \n",
    "    num_chk = num // 10\n",
    "    num = num % 10\n",
    "    roman_num.append(num_chk*\"X\")\n",
    "    if num == 0:\n",
    "        return roman_num\n",
    "    \n",
    "    num_chk = num // 1\n",
    "    roman_num.append(num_chk*\"I\")\n",
    "\n",
    "    return roman_num\n",
    "\n",
    "print(*convert_to_roman(1001))"
   ]
  },
  {
   "cell_type": "code",
   "execution_count": 11,
   "metadata": {},
   "outputs": [
    {
     "data": {
      "text/plain": [
       "'DDD'"
      ]
     },
     "execution_count": 11,
     "metadata": {},
     "output_type": "execute_result"
    }
   ],
   "source": [
    "num_table = [1000, 500, 100, 50, 10, 1]\n",
    "roman_table = {1000: \"M\", 500: \"D\", 100: \"C\", 50: \"L\", 10: \"X\", 5: \"V\", 1: \"I\"} \n",
    "roman_num = ''\n",
    "\n",
    "roman_num + roman_table[num_table[1]] * 3"
   ]
  },
  {
   "cell_type": "code",
   "execution_count": 39,
   "metadata": {},
   "outputs": [
    {
     "name": "stdout",
     "output_type": "stream",
     "text": [
      "1000,' '1,' ',204\n",
      "900,' '0,' ',204\n",
      "500,' '0,' ',204\n",
      "400,' '0,' ',204\n",
      "100,' '2,' ',4\n",
      "90,' '0,' ',4\n",
      "50,' '0,' ',4\n",
      "40,' '0,' ',4\n",
      "10,' '0,' ',4\n",
      "9,' '0,' ',4\n",
      "5,' '0,' ',4\n",
      "4,' '1,' ',0\n",
      "MCCIX\n"
     ]
    }
   ],
   "source": [
    "def convert_to_roman(arabic_num):\n",
    "    num_table = [1000, 900, 500, 400, 100, 90, 50, 40, 10, 9, 5, 4, 1]\n",
    "    roman_table = {1000: \"M\", 900: \"CM\", 500: \"D\", 400: \"CD\", 100: \"C\", 90:\"XC\", 50: \"L\", 40: \"XL\",10: \"X\", 9: \"IX\", 5: \"V\", 4: \"IX\", 1: \"I\"} \n",
    "    roman_num = \"\"\n",
    "    if arabic_num > 3999:\n",
    "        return roman_num\n",
    "    for i in num_table:\n",
    "        num_digits = arabic_num // i\n",
    "        arabic_num = arabic_num % i\n",
    "        print(\"{},' '{},' ',{}\".format(i, num_digits, arabic_num))\n",
    "        if num_digits == 0:\n",
    "            continue\n",
    "        else:\n",
    "            roman_num = roman_num + (roman_table[i] * num_digits)\n",
    "            if arabic_num == 0:\n",
    "                return roman_num\n",
    "\n",
    "        \n",
    "print(convert_to_roman(1204))"
   ]
  },
  {
   "cell_type": "code",
   "execution_count": 22,
   "metadata": {},
   "outputs": [
    {
     "data": {
      "text/plain": [
       "1"
      ]
     },
     "execution_count": 22,
     "metadata": {},
     "output_type": "execute_result"
    }
   ],
   "source": [
    "1 % 500"
   ]
  },
  {
   "cell_type": "code",
   "execution_count": 7,
   "metadata": {},
   "outputs": [
    {
     "name": "stdout",
     "output_type": "stream",
     "text": [
      "XXXIV\n"
     ]
    }
   ],
   "source": [
    "def convert_to_roman(arabic_num):\n",
    "    roman_table = {1000: \"M\", 900: \"CM\", 500: \"D\", 400: \"CD\", 100: \"C\", 90:\"XC\", 50: \"L\", 40: \"XL\",10: \"X\", 9: \"IX\", 5: \"V\", 4: \"IV\", 1: \"I\"} \n",
    "    roman_num = \"\"\n",
    "    RANGE_MAX = 3999\n",
    "    if arabic_num > RANGE_MAX:\n",
    "        return roman_num\n",
    "    for i in roman_table:\n",
    "        num_digits ,arabic_num = divmod(arabic_num, i)\n",
    "        if num_digits == 0:\n",
    "            continue\n",
    "        else:\n",
    "            roman_num += (roman_table[i] * num_digits)\n",
    "            if arabic_num == 0:\n",
    "                return roman_num\n",
    "    return roman_num\n",
    "       \n",
    "\n",
    "print(convert_to_roman(34))"
   ]
  },
  {
   "cell_type": "code",
   "execution_count": 2,
   "metadata": {},
   "outputs": [
    {
     "name": "stdout",
     "output_type": "stream",
     "text": [
      "3 1\n"
     ]
    }
   ],
   "source": [
    "a, b = divmod(10, 3)\n",
    "print(a, b)"
   ]
  },
  {
   "cell_type": "code",
   "execution_count": null,
   "metadata": {},
   "outputs": [],
   "source": []
  }
 ],
 "metadata": {
  "kernelspec": {
   "display_name": "Python 3",
   "language": "python",
   "name": "python3"
  },
  "language_info": {
   "codemirror_mode": {
    "name": "ipython",
    "version": 3
   },
   "file_extension": ".py",
   "mimetype": "text/x-python",
   "name": "python",
   "nbconvert_exporter": "python",
   "pygments_lexer": "ipython3",
   "version": "3.7.4"
  }
 },
 "nbformat": 4,
 "nbformat_minor": 4
}
