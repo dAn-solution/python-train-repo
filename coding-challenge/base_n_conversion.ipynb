{
 "cells": [
  {
   "cell_type": "code",
   "execution_count": 21,
   "metadata": {},
   "outputs": [
    {
     "name": "stdout",
     "output_type": "stream",
     "text": [
      "AA 2\n",
      "BB 0\n",
      "DD ['0', 2]\n",
      "A ['0', '0', 1] 1\n",
      "['0', '0', 1]\n",
      "[1, '0', '0']\n"
     ]
    }
   ],
   "source": [
    "base_num = \"0123456789abcdefghijklmnopqrstuvwxyzABCDEFGHIJKLMNOPQRSTUVWXYZ\"\n",
    "count_list = []\n",
    "digit_num = 0\n",
    "decimal_num = 4\n",
    "conversion_num = 2\n",
    "quotient, remainder = divmod(decimal_num, conversion_num)\n",
    "print(\"AA {}\".format(quotient))\n",
    "print(\"BB {}\".format(remainder))\n",
    "count_list.append(base_num_list[remainder])\n",
    "count_list.append(quotient)\n",
    "while quotient >= conversion_num:\n",
    "#     count_list.append(base_num_list[remainder])\n",
    "\n",
    "#                 print(\"CC {}\".format(quotient))\n",
    "    print(\"DD {}\".format(count_list))\n",
    "    quotient, remainder = divmod(quotient, conversion_num)\n",
    "    digit_num += 1\n",
    "    count_list[digit_num] = base_num_list[remainder]\n",
    "    count_list.append(quotient)\n",
    "count_list[digit_num]= str(base_num_list[int(count_list[digit_num])])\n",
    "\n",
    "print(\"A {} {}\".format(count_list, digit_num))\n",
    "print(count_list)\n",
    "count_list.reverse()\n",
    "print(count_list)"
   ]
  },
  {
   "cell_type": "code",
   "execution_count": 26,
   "metadata": {},
   "outputs": [
    {
     "name": "stdout",
     "output_type": "stream",
     "text": [
      "2322\n"
     ]
    }
   ],
   "source": [
    "# base_n_conversion.py\n",
    "def base_n_conversion(decimal_num, conversion_num):\n",
    "    \"\"\" 10進数を１〜６２進数に変換する関数\n",
    "        １進数のみ別ロジック　1\" * decimal_num\n",
    "        他は割り算を繰り返して該当する進数を当てはめる\n",
    "        ---------\n",
    "        decimal_num 変換する１０進数\n",
    "        conversion_num 変換するｎ進数\n",
    "    \"\"\"\n",
    "    base_num = \"0123456789abcdefghijklmnopqrstuvwxyzABCDEFGHIJKLMNOPQRSTUVWXYZ\"\n",
    "    if isinstance(decimal_num, int) and (isinstance(conversion_num, int)):\n",
    "        if conversion_num > 1 or conversion_num <= 62:\n",
    "            if conversion_num == 1:\n",
    "                return \"1\" * decimal_num\n",
    "            else:\n",
    "                count_list = [\"0\"]\n",
    "                quotient = decimal_num\n",
    "                digit_num = 0\n",
    "                # \n",
    "                if quotient < conversion_num:\n",
    "                    count_list[digit_num] = quotient\n",
    "                else:\n",
    "                    while quotient >= conversion_num:\n",
    "                        count_list += [\"0\"]\n",
    "                        quotient, remainder = divmod(quotient, conversion_num)\n",
    "                        count_list[digit_num] = base_num[remainder]\n",
    "                        digit_num += 1\n",
    "                        count_list[digit_num] = quotient\n",
    "                if count_list[digit_num] == 0:  \n",
    "                    count_list.pop(digit_num)   # 先頭が0なら削除\n",
    "                else:\n",
    "                    #先頭のn進数数字をセット\n",
    "                    count_list[digit_num] = base_num[count_list[digit_num]]\n",
    "                # 上記までのリストを逆順にする\n",
    "                count_list.reverse()\n",
    "                # strをintに換えてreturn\n",
    "                return \"\".join(count_list)\n",
    "        else:\n",
    "            return \"conversion number err\"\n",
    "    else:\n",
    "        return \"Cannot be converted\"\n",
    "\n",
    "print(base_n_conversion(1234, 8))"
   ]
  },
  {
   "cell_type": "code",
   "execution_count": 11,
   "metadata": {},
   "outputs": [],
   "source": [
    "b = []\n",
    "b.append([0,0])"
   ]
  },
  {
   "cell_type": "code",
   "execution_count": 12,
   "metadata": {},
   "outputs": [
    {
     "name": "stdout",
     "output_type": "stream",
     "text": [
      "[[0, 0]]\n"
     ]
    }
   ],
   "source": [
    "print(b)"
   ]
  },
  {
   "cell_type": "code",
   "execution_count": 25,
   "metadata": {},
   "outputs": [
    {
     "name": "stdout",
     "output_type": "stream",
     "text": [
      "4\n",
      "2\n",
      "1\n"
     ]
    }
   ],
   "source": [
    "q = 9\n",
    "w = 2\n",
    "while q >= w:\n",
    "    q, r= divmod(q, 2)\n",
    "    print(q)\n"
   ]
  },
  {
   "cell_type": "code",
   "execution_count": null,
   "metadata": {},
   "outputs": [],
   "source": []
  }
 ],
 "metadata": {
  "kernelspec": {
   "display_name": "Python 3",
   "language": "python",
   "name": "python3"
  },
  "language_info": {
   "codemirror_mode": {
    "name": "ipython",
    "version": 3
   },
   "file_extension": ".py",
   "mimetype": "text/x-python",
   "name": "python",
   "nbconvert_exporter": "python",
   "pygments_lexer": "ipython3",
   "version": "3.7.4"
  }
 },
 "nbformat": 4,
 "nbformat_minor": 4
}
