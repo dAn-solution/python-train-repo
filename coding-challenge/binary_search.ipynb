{
 "cells": [
  {
   "cell_type": "code",
   "execution_count": 32,
   "metadata": {},
   "outputs": [
    {
     "name": "stdout",
     "output_type": "stream",
     "text": [
      "0\n",
      "5\n"
     ]
    }
   ],
   "source": [
    "# binary_search\n",
    "def binary_search(goal_variable, search_list):\n",
    "    \"\"\" 二分探索関数\n",
    "        SORT済リストから探すべき値（goal_variable）のインデックスを返す\n",
    "        half_numを中間とするインデックスとして使用\n",
    "        [half_num]のリストの値が探すべき値と比較して大か小かで絞っていく\n",
    "        first_temp_num, last_temp_numはその都度変化\n",
    "        goal_variableが複数ある場合、一番若いインデックスを返す\n",
    "        ---------------------\n",
    "        goal_variable: 探すべき値\n",
    "        search_list: SORT済リスト\n",
    "        ---------------------\n",
    "        使用例：\n",
    "        numbers =  [3, 3, 3, 3, 5, 7, 10, 13, 18, 20, 23, 33, 34, 50, 80, 99]\n",
    "        print(binary_search(3, numbers))\n",
    "        # 0\n",
    "        words = ['air', 'apple', 'ocean', 'orange', 'sea', 'zoo']\n",
    "        print(binary_search('zoo', words))\n",
    "        # 5\n",
    "    \"\"\"\n",
    "    if (type(search_list) is not list) or (len(search_list) == 0):\n",
    "        result = \"Not in list format\"\n",
    "    else:\n",
    "        half_num = int(len(search_list) / 2)\n",
    "        first_temp_num, last_temp_num = 0, len(search_list)\n",
    "        result = \"There are no items\"\n",
    "        half_check = -1\n",
    "        while half_num != half_check:\n",
    "            if search_list[half_num] == goal_variable:\n",
    "                half_check = half_num\n",
    "                for i in reversed(range(0, half_num)):  # 求める値が複数あるかの確認\n",
    "                    if search_list[i] != goal_variable:\n",
    "                        half_num, half_check = i+1, i+1\n",
    "                        break\n",
    "                    elif i == 0:\n",
    "                        half_num, half_check = i, i\n",
    "                result = half_num\n",
    "            else:\n",
    "                if search_list[half_num] < goal_variable:　　# [half_num] より求める値が大きい\n",
    "                    first_temp_num, half_check = half_num, half_num\n",
    "                    half_num = int((half_num + last_temp_num) / 2)\n",
    "                else:                                       # [half_num] より求める値が小さい\n",
    "                    last_temp_num, half_check = half_num, half_num\n",
    "                    half_num = int((first_temp_num + half_num) / 2)\n",
    "        return result\n",
    "\n",
    "numbers =  [3, 3, 3, 3, 5, 7, 10, 13, 18, 20, 23, 33, 34, 50, 80, 99]\n",
    "print(binary_search(3, numbers))\n",
    "\n",
    "words = ['air', 'apple', 'ocean', 'orange', 'sea', 'zoo']\n",
    "print(binary_search('zoo', words))"
   ]
  },
  {
   "cell_type": "code",
   "execution_count": 22,
   "metadata": {},
   "outputs": [
    {
     "name": "stdout",
     "output_type": "stream",
     "text": [
      "1\n",
      "There are no items\n"
     ]
    }
   ],
   "source": [
    "# binary_search\n",
    "def binary_search(goal_variable, search_list):\n",
    "    \"\"\" 二分探索関数\n",
    "        SORT済リストから探すべき値（goal_variable）のインデックスを返す\n",
    "        half_indexを中間とするインデックスとして使用\n",
    "        [half_num]のリストの値が探すべき値と比較して大か小かで絞っていく\n",
    "        first_temp_index, last_temp_indexはその都度変化\n",
    "        goal_variableが複数ある場合、一番若いインデックスを返す\n",
    "        ---------------------\n",
    "        goal_variable: 探すべき値\n",
    "        search_list: SORT済リスト\n",
    "        ---------------------\n",
    "        使用例：\n",
    "        numbers =  [3, 3, 3, 3, 5, 7, 10, 13, 18, 20, 23, 33, 34, 50, 80, 99]\n",
    "        print(binary_search(3, numbers))\n",
    "        # 0\n",
    "        words = ['air', 'apple', 'ocean', 'orange', 'sea', 'zoo']\n",
    "        print(binary_search('zoo', words))\n",
    "        # 5\n",
    "    \"\"\"\n",
    "    if (type(search_list) is not list) or (len(search_list) == 0):\n",
    "        result = \"Not in list format\"\n",
    "    else:\n",
    "        half_index = int(len(search_list) / 2)\n",
    "        first_temp_index, last_temp_index = 0, len(search_list)\n",
    "        while True:\n",
    "            if search_list[half_index] != goal_variable:\n",
    "                if search_list[half_index] < goal_variable:\n",
    "                    first_temp_index = half_index\n",
    "                    half_index = int((half_index + last_temp_index) / 2)\n",
    "                else:\n",
    "                    last_temp_index = half_index\n",
    "                    half_index = int((half_index + first_temp_index) / 2)\n",
    "                if (half_index == first_temp_index) or (half_index == last_temp_index):\n",
    "                    result = \"There are no items\"\n",
    "                    break\n",
    "            else:\n",
    "                if half_index == 0:\n",
    "                    result = half_index\n",
    "                    break\n",
    "                else:\n",
    "                    if search_list[half_index-1] == goal_variable:\n",
    "                        last_temp_index = half_index - 1\n",
    "                        half_index = int((last_temp_index + first_temp_index) / 2)\n",
    "                    else:\n",
    "                        result = half_index\n",
    "                        break\n",
    "        return result\n",
    "\n",
    "numbers =  [1, 3, 3, 3, 3, 3, 10, 13, 18, 20, 23, 33, 34, 50, 80, 99]\n",
    "print(binary_search(3, numbers))\n",
    "\n",
    "words = ['air', 'apple', 'ocean', 'orange', 'sea', 'zoo']\n",
    "print(binary_search('aapple', words))"
   ]
  },
  {
   "cell_type": "code",
   "execution_count": null,
   "metadata": {},
   "outputs": [],
   "source": []
  }
 ],
 "metadata": {
  "kernelspec": {
   "display_name": "Python 3",
   "language": "python",
   "name": "python3"
  },
  "language_info": {
   "codemirror_mode": {
    "name": "ipython",
    "version": 3
   },
   "file_extension": ".py",
   "mimetype": "text/x-python",
   "name": "python",
   "nbconvert_exporter": "python",
   "pygments_lexer": "ipython3",
   "version": "3.7.4"
  }
 },
 "nbformat": 4,
 "nbformat_minor": 4
}
