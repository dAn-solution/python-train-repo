{
 "cells": [
  {
   "cell_type": "code",
   "execution_count": 2,
   "metadata": {},
   "outputs": [
    {
     "name": "stdout",
     "output_type": "stream",
     "text": [
      "BUHECNEICSATAD!!!\n"
     ]
    }
   ],
   "source": [
    "# refactoring(1)\n",
    "def shout_backwards(string):\n",
    "    all_caps = string.upper()\n",
    "    backwards = all_caps[::-1]\n",
    "    result = backwards + \"!!!\"\n",
    "    return result\n",
    "\n",
    "print(shout_backwards('DataScienceHub'))"
   ]
  },
  {
   "cell_type": "code",
   "execution_count": 3,
   "metadata": {},
   "outputs": [
    {
     "name": "stdout",
     "output_type": "stream",
     "text": [
      "BUHECNEISARAD!!!\n"
     ]
    }
   ],
   "source": [
    "# refactoring(1)\n",
    "def shout_backwards(string):\n",
    "    return string.upper()[::-1] + \"!!!\"\n",
    "\n",
    "print(shout_backwards('DaraSienceHub'))"
   ]
  },
  {
   "cell_type": "code",
   "execution_count": 37,
   "metadata": {},
   "outputs": [
    {
     "name": "stdout",
     "output_type": "stream",
     "text": [
      "0\n",
      "1\n",
      "[2]\n",
      "0\n"
     ]
    }
   ],
   "source": [
    "x = 3\n",
    "y = 0\n",
    "\n",
    "print(len([y for y in range(2, x) if x % y == 0])) \n",
    "print(len([y for y in range(2, x)])) \n",
    "print([y for y in range(2, x)]) \n",
    "\n",
    "print(y)"
   ]
  },
  {
   "cell_type": "code",
   "execution_count": 28,
   "metadata": {},
   "outputs": [
    {
     "name": "stdout",
     "output_type": "stream",
     "text": [
      "3,2\n"
     ]
    }
   ],
   "source": [
    "for y in range(2, x):\n",
    "    print(\"{},{}\".format(x, y))\n",
    "    if x % y == 0:\n",
    "        print(x % y)"
   ]
  },
  {
   "cell_type": "code",
   "execution_count": 34,
   "metadata": {},
   "outputs": [
    {
     "data": {
      "text/plain": [
       "[2]"
      ]
     },
     "execution_count": 34,
     "metadata": {},
     "output_type": "execute_result"
    }
   ],
   "source": [
    "list(range(2,3))"
   ]
  },
  {
   "cell_type": "code",
   "execution_count": 30,
   "metadata": {},
   "outputs": [
    {
     "name": "stdout",
     "output_type": "stream",
     "text": [
      "[4, 9, 49, 121, 169, 1849]\n"
     ]
    }
   ],
   "source": [
    "# Let's refactor\n",
    "def squared_primes(array):\n",
    "    squared_primes = [z*z for z in [x for x in array if (len([y for y in range(2, x) if x % y == 0]) == 0) & (x > 1)]]    \n",
    "    return squared_primes\n",
    "    \n",
    "print(squared_primes([1, 2, 3, 4, 7, 9, 10, 11, 13, 16, 43]))"
   ]
  },
  {
   "cell_type": "code",
   "execution_count": 1,
   "metadata": {},
   "outputs": [
    {
     "name": "stdout",
     "output_type": "stream",
     "text": [
      "[4, 9, 49, 121, 169, 1849]\n"
     ]
    }
   ],
   "source": [
    "# refactoring(2)\n",
    "def squared_prime(array):\n",
    "    result_list = []\n",
    "    for x in array:  # arrayから要素取り出し\n",
    "        prime_num_chk = True\n",
    "        # ２から要素直前までの数字で割り切れるかをチェック\n",
    "        for y in range(2, x):\n",
    "            if x % y == 0:\n",
    "                prime_num_chk = False\n",
    "        # 割り切れていなければ素数としてリストに追加\n",
    "        if (prime_num_chk) & (x > 1):\n",
    "            result_list.append(x*x)\n",
    "    return result_list\n",
    "\n",
    "print(squared_prime([1, 2, 3, 4, 7, 9, 10, 11, 13, 16, 43]))"
   ]
  },
  {
   "cell_type": "code",
   "execution_count": 13,
   "metadata": {},
   "outputs": [
    {
     "name": "stdout",
     "output_type": "stream",
     "text": [
      "2\n",
      "3\n"
     ]
    },
    {
     "data": {
      "text/plain": [
       "0"
      ]
     },
     "execution_count": 13,
     "metadata": {},
     "output_type": "execute_result"
    }
   ],
   "source": [
    "for i in range(2,4):\n",
    "    print(i)\n",
    "2 % 2"
   ]
  },
  {
   "cell_type": "code",
   "execution_count": null,
   "metadata": {},
   "outputs": [],
   "source": []
  }
 ],
 "metadata": {
  "kernelspec": {
   "display_name": "Python 3",
   "language": "python",
   "name": "python3"
  },
  "language_info": {
   "codemirror_mode": {
    "name": "ipython",
    "version": 3
   },
   "file_extension": ".py",
   "mimetype": "text/x-python",
   "name": "python",
   "nbconvert_exporter": "python",
   "pygments_lexer": "ipython3",
   "version": "3.7.4"
  }
 },
 "nbformat": 4,
 "nbformat_minor": 4
}
