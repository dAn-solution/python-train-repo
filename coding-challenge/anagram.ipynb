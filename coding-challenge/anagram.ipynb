{
 "cells": [
  {
   "cell_type": "markdown",
   "metadata": {},
   "source": [
    "### Anagram"
   ]
  },
  {
   "cell_type": "code",
   "execution_count": 1,
   "metadata": {},
   "outputs": [
    {
     "name": "stdout",
     "output_type": "stream",
     "text": [
      "True\n",
      "False\n",
      "False\n"
     ]
    }
   ],
   "source": [
    "# 2つの単語（アルファベット）を比較し、大文字小文字関係なしで同じ同じアルファベットを使っているかを確認\n",
    "def is_anagram(word1, word2):\n",
    "    # 長さの確認\n",
    "    if len(word1) != len(word2):\n",
    "        return False\n",
    "    else:\n",
    "        # 大文字を小文字に変換し並べ替え\n",
    "        word1 = list(sorted(word1.lower()))\n",
    "        word2 = list(sorted(word2.lower()))\n",
    "        # 単語の比較\n",
    "        for i in range(len(word1)):\n",
    "            if word1[i] != word2[i]:\n",
    "                return False\n",
    "        return True\n",
    "\n",
    "# Anagram確認\n",
    "print(is_anagram('Listen', 'Silent'))\n",
    "print(is_anagram('kaMeka', 'Dansol'))\n",
    "print(is_anagram('abc', 'ABCD'))"
   ]
  },
  {
   "cell_type": "code",
   "execution_count": null,
   "metadata": {},
   "outputs": [],
   "source": []
  }
 ],
 "metadata": {
  "kernelspec": {
   "display_name": "Python 3",
   "language": "python",
   "name": "python3"
  },
  "language_info": {
   "codemirror_mode": {
    "name": "ipython",
    "version": 3
   },
   "file_extension": ".py",
   "mimetype": "text/x-python",
   "name": "python",
   "nbconvert_exporter": "python",
   "pygments_lexer": "ipython3",
   "version": "3.7.4"
  }
 },
 "nbformat": 4,
 "nbformat_minor": 4
}
