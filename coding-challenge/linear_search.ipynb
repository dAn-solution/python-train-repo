{
 "cells": [
  {
   "cell_type": "code",
   "execution_count": 10,
   "metadata": {},
   "outputs": [
    {
     "name": "stdout",
     "output_type": "stream",
     "text": [
      "2\n",
      "None\n"
     ]
    }
   ],
   "source": [
    "# (1)リスト内を検索し該当する数のindexを返す。なければnone\n",
    "def linear_search(num_chk, numbers):\n",
    "    return_chk = None\n",
    "    for i in numbers:\n",
    "        if i == num_chk:\n",
    "            return_chk = numbers.index(i)\n",
    "            break\n",
    "    return return_chk\n",
    "\n",
    "numbers = [0, 2, 45, 3, 18, 8]\n",
    "print(linear_search(45, numbers))\n",
    "print(linear_search(4, numbers))"
   ]
  },
  {
   "cell_type": "code",
   "execution_count": 2,
   "metadata": {},
   "outputs": [
    {
     "name": "stdout",
     "output_type": "stream",
     "text": [
      "45\n"
     ]
    }
   ],
   "source": [
    "num_chk = 45\n",
    "numbers = [0, 2, 45, 3, 18, 8]\n",
    "for i, _x in enumerate(numbers):\n",
    "    if num_chk == _x:\n",
    "        print(_x)"
   ]
  },
  {
   "cell_type": "code",
   "execution_count": 7,
   "metadata": {},
   "outputs": [
    {
     "name": "stdout",
     "output_type": "stream",
     "text": [
      "4\n",
      "None\n"
     ]
    }
   ],
   "source": [
    "# (1)リスト内を検索し該当する数のindexを返す。なければnone\n",
    "def linear_search(num_search, numbers, default=None):\n",
    "    for i, _x in enumerate(numbers):\n",
    "        if num_search == _x:\n",
    "            return i\n",
    "    return default\n",
    "    \n",
    "numbers = [0, 2, 45, 3, 18, 8]\n",
    "print(linear_search(18, numbers))\n",
    "print(linear_search(4, numbers))"
   ]
  },
  {
   "cell_type": "code",
   "execution_count": 12,
   "metadata": {},
   "outputs": [
    {
     "name": "stdout",
     "output_type": "stream",
     "text": [
      "[4]\n",
      "[1, 1]\n",
      "[]\n"
     ]
    }
   ],
   "source": [
    "# (2)リスト内を検索し該当するindexを複数対応で返す\n",
    "def global_linear_search(x_chk, letters):\n",
    "    letters = list(letters)\n",
    "    return_chk = []\n",
    "    for i in letters:\n",
    "        if i == x_chk:\n",
    "            return_chk.append(letters.index(i))\n",
    "    return return_chk\n",
    "\n",
    "letters = \"datasciencehub\"\n",
    "print(global_linear_search('s', letters))\n",
    "print(global_linear_search('a', letters))\n",
    "print(global_linear_search('z', letters))"
   ]
  },
  {
   "cell_type": "code",
   "execution_count": 3,
   "metadata": {},
   "outputs": [
    {
     "name": "stdout",
     "output_type": "stream",
     "text": [
      "[5, 6, 12]\n",
      "[]\n",
      "[14, 15, 16, 17, 18]\n",
      "[9, 11, 13]\n"
     ]
    }
   ],
   "source": [
    "def my_index_multi(x, l):\n",
    "    return [i for i, _x in enumerate(l) if _x == x]\n",
    "\n",
    "letters = [3,5,7,8,4,5,6,7,6,6]\n",
    "letters = [3,5,'C',7,8,'a','a',4,5,6,7,6,'a',6,45,45,45,45,45,]\n",
    "print(my_index_multi('a', letters))\n",
    "print(my_index_multi('z', letters))\n",
    "print(my_index_multi(45, letters))\n",
    "print(my_index_multi(6, letters))"
   ]
  },
  {
   "cell_type": "code",
   "execution_count": 6,
   "metadata": {},
   "outputs": [
    {
     "name": "stdout",
     "output_type": "stream",
     "text": [
      "[4]\n",
      "[1, 3]\n",
      "[]\n",
      "[2]\n",
      "[4, 6]\n",
      "[]\n"
     ]
    }
   ],
   "source": [
    "# (2)リスト内を検索し該当するindexを複数対応で返す\n",
    "def global_linear_search(letter_search, list_data):\n",
    "    return [i for i, _x in enumerate(list_data) if _x == letter_search]\n",
    "\n",
    "letters = \"datasciencehub\"\n",
    "print(global_linear_search('s', letters))\n",
    "print(global_linear_search('a', letters))\n",
    "print(global_linear_search('z', letters))\n",
    "letters = [0, 4, 56, 4, 3, 10, 3, 1]\n",
    "print(global_linear_search(56, letters))\n",
    "print(global_linear_search(3, letters))\n",
    "print(global_linear_search(11, letters))"
   ]
  },
  {
   "cell_type": "code",
   "execution_count": null,
   "metadata": {},
   "outputs": [],
   "source": []
  }
 ],
 "metadata": {
  "kernelspec": {
   "display_name": "Python 3",
   "language": "python",
   "name": "python3"
  },
  "language_info": {
   "codemirror_mode": {
    "name": "ipython",
    "version": 3
   },
   "file_extension": ".py",
   "mimetype": "text/x-python",
   "name": "python",
   "nbconvert_exporter": "python",
   "pygments_lexer": "ipython3",
   "version": "3.7.4"
  }
 },
 "nbformat": 4,
 "nbformat_minor": 4
}
