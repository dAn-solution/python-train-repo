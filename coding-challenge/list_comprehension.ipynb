{
 "cells": [
  {
   "cell_type": "code",
   "execution_count": 1,
   "metadata": {},
   "outputs": [
    {
     "name": "stdout",
     "output_type": "stream",
     "text": [
      "[50.0, 95.0, 69.8, 109.4]\n"
     ]
    }
   ],
   "source": [
    "# list_comprehension\n",
    "# (1)Celsius温度をFahrenheit温度に変換　x*1.8+32\n",
    "celsius_list = [10, 35, 21, 43]\n",
    "fahrenheit_list = [round(x*1.8 + 32,1) for x in celsius_list]\n",
    "print(fahrenheit_list)"
   ]
  },
  {
   "cell_type": "code",
   "execution_count": 2,
   "metadata": {},
   "outputs": [
    {
     "name": "stdout",
     "output_type": "stream",
     "text": [
      "[30, 60, 90]\n"
     ]
    }
   ],
   "source": [
    "# (2)指定した自然数の100以下の倍数を表示\n",
    "entry_num = 30\n",
    "multiple_num = [entry_num*i for i in range(1, 100) if entry_num*i <= 100]\n",
    "print(multiple_num)"
   ]
  },
  {
   "cell_type": "code",
   "execution_count": 10,
   "metadata": {},
   "outputs": [
    {
     "name": "stdout",
     "output_type": "stream",
     "text": [
      "[]\n"
     ]
    }
   ],
   "source": [
    "entry_num = 1000\n",
    "multiple_num = []\n",
    "for i in range(1, 100):\n",
    "    num = i * entry_num\n",
    "    if num > 100:\n",
    "        break\n",
    "    multiple_num.append(num)\n",
    "print(multiple_num)"
   ]
  },
  {
   "cell_type": "code",
   "execution_count": 12,
   "metadata": {},
   "outputs": [
    {
     "data": {
      "text/plain": [
       "[24, 48, 72, 96]"
      ]
     },
     "execution_count": 12,
     "metadata": {},
     "output_type": "execute_result"
    }
   ],
   "source": [
    "entry_num = 24\n",
    "multiple_num = [entry_num*i for i in range(1, 100) if entry_num*i <= 100]\n",
    "multiple_num"
   ]
  },
  {
   "cell_type": "code",
   "execution_count": null,
   "metadata": {},
   "outputs": [],
   "source": []
  }
 ],
 "metadata": {
  "kernelspec": {
   "display_name": "Python 3",
   "language": "python",
   "name": "python3"
  },
  "language_info": {
   "codemirror_mode": {
    "name": "ipython",
    "version": 3
   },
   "file_extension": ".py",
   "mimetype": "text/x-python",
   "name": "python",
   "nbconvert_exporter": "python",
   "pygments_lexer": "ipython3",
   "version": "3.7.4"
  }
 },
 "nbformat": 4,
 "nbformat_minor": 4
}
