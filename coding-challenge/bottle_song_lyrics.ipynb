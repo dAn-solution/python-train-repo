{
 "cells": [
  {
   "cell_type": "code",
   "execution_count": 4,
   "metadata": {},
   "outputs": [
    {
     "name": "stdout",
     "output_type": "stream",
     "text": [
      "2 bottles of beer on the wall, 2 bottles of beer.\n",
      "Take one down, pass it around, 1 bottles of beer on the wall!\n",
      " \n",
      "1 bottle of beer on the wall, 1 bottle of beer.\n",
      "Take one down, pass it around, no more bottles of beer on the wall!\n"
     ]
    }
   ],
   "source": [
    "# 99 Bottle of Beer Song\n",
    "def bottle_song_lyrics(num_bottles):\n",
    "    \"\"\" 99 Bottle of beer song\n",
    "        受け取った数字のbottleから1bottleまでの歌を返す\n",
    "        受け取る数字は正の整数\n",
    "        返す値はstring\n",
    "        -------\n",
    "        num_bottles\n",
    "        最初に指定されたbottleの数字\n",
    "    \"\"\"\n",
    "    LYRICS_DATA = \"{} bottles of beer on the wall, {} bottles of beer.\\n\" + \\\n",
    "                  \"Take one down, pass it around, {} bottles of beer on the wall!\" + \"\\n\" + \" \\n\"\n",
    "    LYRICS_LASTDATA = \"1 bottle of beer on the wall, 1 bottle of beer.\\n\" + \\\n",
    "                  \"Take one down, pass it around, no more bottles of beer on the wall!\"\n",
    "    song_lyrics = \"\"    \n",
    "    if isinstance(num_bottles, int):\n",
    "        if 1 <= num_bottles:\n",
    "            for i in range(num_bottles, 0, -1):\n",
    "                if i == 1:\n",
    "                    song_lyrics += LYRICS_LASTDATA\n",
    "                else:\n",
    "                    song_lyrics += LYRICS_DATA.format(i, i, i-1)\n",
    "        else:\n",
    "            song_lyrics = \"Bottles can't be counted.\"\n",
    "    else:\n",
    "        song_lyrics = \"Other than numbers.\"\n",
    "    return song_lyrics\n",
    "\n",
    "print(bottle_song_lyrics(2))"
   ]
  },
  {
   "cell_type": "code",
   "execution_count": 2,
   "metadata": {},
   "outputs": [
    {
     "name": "stdout",
     "output_type": "stream",
     "text": [
      "4 bottles of beer on the wall, 4 bottles of beer.\n",
      "Take one down, pass it around, 3 bottles of beer on the wall!\n",
      " \n",
      "3 bottles of beer on the wall, 3 bottles of beer.\n",
      "Take one down, pass it around, 2 bottles of beer on the wall!\n",
      " \n",
      "2 bottles of beer on the wall, 2 bottles of beer.\n",
      "Take one down, pass it around, 1 bottles of beer on the wall!\n",
      " \n",
      "1 bottle of beer on the wall, 1 bottle of beer.\n",
      "Take one down, pass it around, no more bottles of beer on the wall!\n"
     ]
    }
   ],
   "source": [
    "# 99 Bottle of Beer Song　再帰関数版\n",
    "def bottle_song_lyrics(num_bottles):\n",
    "    \"\"\" 99 Bottle of beer song\n",
    "        受け取った数字のbottleから1bottleまでの歌を返す\n",
    "        受け取る数字は正の整数\n",
    "        歌詞の繰り返しセットは関数\n",
    "        返す値はstring\n",
    "        ---------\n",
    "        num_bottles\n",
    "        最初に指定されたbottleの数字\n",
    "    \"\"\"\n",
    "    LYRICS_DATA = \"{} bottles of beer on the wall, {} bottles of beer.\\n\" + \\\n",
    "                  \"Take one down, pass it around, {} bottles of beer on the wall!\" + \"\\n\" + \" \\n\"\n",
    "    song_lyrics = \"\"    \n",
    "    if isinstance(num_bottles, int):\n",
    "        if 1 <= num_bottles:\n",
    "            song_lyrics = bottle_song_set(num_bottles, song_lyrics, LYRICS_DATA)\n",
    "        else:\n",
    "            song_lyrics = \"Bottles can't be counted.\"\n",
    "    else:\n",
    "        song_lyrics = \"Other than numbers.\"\n",
    "    return song_lyrics\n",
    "\n",
    "\n",
    "def bottle_song_set(num_bottles, song_lyrics, LYRICS_DATA):\n",
    "    \"\"\"関数bottle_song_lyricsから呼び出される再帰関数\n",
    "     　-------\n",
    "       num_bottles\n",
    "       呼び出された時点のbottleの数字\n",
    "       song_lyrics\n",
    "       歌詞を格納するstring\n",
    "       LYRICS_DATA\n",
    "       bottle_song_lyrics関数から受け取る繰り返しの歌詞データ\n",
    "    \"\"\"\n",
    "    if num_bottles == 1:\n",
    "        return song_lyrics + \"1 bottle of beer on the wall, 1 bottle of beer.\\n\" + \\\n",
    "                             \"Take one down, pass it around, no more bottles of beer on the wall!\"\n",
    "    song_lyrics += LYRICS_DATA.format(num_bottles, num_bottles, num_bottles-1)\n",
    "    return bottle_song_set(num_bottles-1, song_lyrics, LYRICS_DATA)\n",
    "\n",
    "\n",
    "print(bottle_song_lyrics(4))"
   ]
  },
  {
   "cell_type": "code",
   "execution_count": null,
   "metadata": {},
   "outputs": [],
   "source": []
  }
 ],
 "metadata": {
  "kernelspec": {
   "display_name": "Python 3",
   "language": "python",
   "name": "python3"
  },
  "language_info": {
   "codemirror_mode": {
    "name": "ipython",
    "version": 3
   },
   "file_extension": ".py",
   "mimetype": "text/x-python",
   "name": "python",
   "nbconvert_exporter": "python",
   "pygments_lexer": "ipython3",
   "version": "3.7.4"
  }
 },
 "nbformat": 4,
 "nbformat_minor": 4
}
