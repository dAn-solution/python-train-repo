{
 "cells": [
  {
   "cell_type": "code",
   "execution_count": 38,
   "metadata": {},
   "outputs": [
    {
     "name": "stdout",
     "output_type": "stream",
     "text": [
      "13\n",
      "□\n",
      "□□\n",
      "□□□\n",
      "□□□□\n",
      "□□□□□\n",
      "□□□□□□\n",
      "□□□□□□□\n",
      "□□□□□□□□\n",
      "□□□□□□□□□\n",
      "□□□□□□□□□□\n",
      "□□□□□□□□□□□\n",
      "□□□□□□□□□□□□\n",
      "□□□□□□□□□□□□□\n",
      "\n"
     ]
    }
   ],
   "source": [
    "# Stairs with blocks (ブロック階段)\n",
    "def block_stairs(block_num):\n",
    "    if isinstance(block_num, int):\n",
    "        if (block_num >= 1) and (block_num <= 10**10):\n",
    "            num_chk = block_num\n",
    "            for i in range(1, block_num+1):\n",
    "                num_chk = num_chk - i\n",
    "                if num_chk <= i:\n",
    "                    break\n",
    "            block_ans = i\n",
    "            square_num = str(block_ans) + \"\\n\"\n",
    "            for i in range(1, block_ans+1):\n",
    "                square_num += \"□\" * i + \"\\n\"\n",
    "            square_num += \"□\" * num_chk\n",
    "        else:\n",
    "            square_num = \"Numeric error\"\n",
    "    else:\n",
    "        square_num = \"Not a number\"\n",
    "    \n",
    "    return square_num\n",
    "\n",
    "print(block_stairs(91))"
   ]
  },
  {
   "cell_type": "code",
   "execution_count": 6,
   "metadata": {},
   "outputs": [
    {
     "data": {
      "text/plain": [
       "4"
      ]
     },
     "execution_count": 6,
     "metadata": {},
     "output_type": "execute_result"
    }
   ],
   "source": [
    "a = 10\n",
    "start = 1\n",
    "for i in range(2, a+1):\n",
    "    start += i\n",
    "    if start >= a:\n",
    "        break\n",
    "i"
   ]
  },
  {
   "cell_type": "code",
   "execution_count": 6,
   "metadata": {},
   "outputs": [
    {
     "name": "stdout",
     "output_type": "stream",
     "text": [
      "141421\n",
      "9999878910\n"
     ]
    }
   ],
   "source": [
    "i = 1\n",
    "start = 0\n",
    "a = 10**10\n",
    "while (start+i) <= a:\n",
    "    start += i\n",
    "    i += 1\n",
    "print(i)\n",
    "print(start)"
   ]
  },
  {
   "cell_type": "code",
   "execution_count": 9,
   "metadata": {},
   "outputs": [
    {
     "name": "stdout",
     "output_type": "stream",
     "text": [
      "5\n",
      "□\n",
      "□□\n",
      "□□□\n",
      "□□□□\n",
      "□□□□□\n",
      "□□□\n"
     ]
    }
   ],
   "source": [
    "# Stairs with blocks (ブロック階段)\n",
    "def block_stairs(blocks):\n",
    "    \"\"\" ブロック階段の作成関数\n",
    "        blocks : 入力された数字\n",
    "        block_num : 求めるブロック数\n",
    "        stairs_num : 求める階段数\n",
    "        remaining_block : 余ったブロック数\n",
    "    \"\"\"\n",
    "    if isinstance(blocks, int):\n",
    "        if (blocks >= 1) and (blocks <= 10**10):\n",
    "            block_num = 0\n",
    "            stairs_num = 0\n",
    "            # 階段数とブロック数を求める\n",
    "            while (block_num + stairs_num) <= blocks:\n",
    "                stairs_num += 1\n",
    "                block_num += stairs_num\n",
    "            remaining_block = 0\n",
    "            if blocks - block_num != 0:\n",
    "                remaining_block = blocks - block_num\n",
    "            result = str(stairs_num) + \"\\n\"\n",
    "            # 階段を作成\n",
    "            for i in range(1, stairs_num+1):\n",
    "                result += \"□\" * i + \"\\n\"\n",
    "            result += \"□\" * remaining_block\n",
    "        else:\n",
    "            result = \"Numeric error\"\n",
    "    else:\n",
    "        result = \"Not a number\"\n",
    "    \n",
    "    return result\n",
    "\n",
    "print(block_stairs(18))"
   ]
  },
  {
   "cell_type": "code",
   "execution_count": null,
   "metadata": {},
   "outputs": [],
   "source": []
  }
 ],
 "metadata": {
  "kernelspec": {
   "display_name": "Python 3",
   "language": "python",
   "name": "python3"
  },
  "language_info": {
   "codemirror_mode": {
    "name": "ipython",
    "version": 3
   },
   "file_extension": ".py",
   "mimetype": "text/x-python",
   "name": "python",
   "nbconvert_exporter": "python",
   "pygments_lexer": "ipython3",
   "version": "3.7.4"
  }
 },
 "nbformat": 4,
 "nbformat_minor": 4
}
