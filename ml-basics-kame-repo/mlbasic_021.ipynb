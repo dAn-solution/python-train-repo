{
 "cells": [
  {
   "cell_type": "markdown",
   "id": "26ccaff5-803c-4d11-b71f-1c2ad31ac6b7",
   "metadata": {},
   "source": [
    "## かめさん講座　機械学習入門\n",
    "#### 33.LightGBM"
   ]
  },
  {
   "cell_type": "code",
   "execution_count": 1,
   "id": "3b10755b-d926-4878-b266-86f2ca7d73f6",
   "metadata": {},
   "outputs": [
    {
     "name": "stdout",
     "output_type": "stream",
     "text": [
      "Collecting lightgbm\n",
      "  Downloading lightgbm-3.3.2-py3-none-manylinux1_x86_64.whl (2.0 MB)\n",
      "\u001b[K     |████████████████████████████████| 2.0 MB 2.4 MB/s eta 0:00:01     |█████████████████▉              | 1.1 MB 2.4 MB/s eta 0:00:01\n",
      "\u001b[?25hRequirement already satisfied: numpy in /opt/anaconda3/lib/python3.8/site-packages (from lightgbm) (1.20.1)\n",
      "Requirement already satisfied: scipy in /opt/anaconda3/lib/python3.8/site-packages (from lightgbm) (1.6.2)\n",
      "Requirement already satisfied: wheel in /opt/anaconda3/lib/python3.8/site-packages (from lightgbm) (0.36.2)\n",
      "Requirement already satisfied: scikit-learn!=0.22.0 in /opt/anaconda3/lib/python3.8/site-packages (from lightgbm) (1.0.2)\n",
      "Requirement already satisfied: threadpoolctl>=2.0.0 in /opt/anaconda3/lib/python3.8/site-packages (from scikit-learn!=0.22.0->lightgbm) (2.1.0)\n",
      "Requirement already satisfied: joblib>=0.11 in /opt/anaconda3/lib/python3.8/site-packages (from scikit-learn!=0.22.0->lightgbm) (1.0.1)\n",
      "Installing collected packages: lightgbm\n",
      "Successfully installed lightgbm-3.3.2\n",
      "\u001b[33mWARNING: Running pip as the 'root' user can result in broken permissions and conflicting behaviour with the system package manager. It is recommended to use a virtual environment instead: https://pip.pypa.io/warnings/venv\u001b[0m\n",
      "\u001b[33mWARNING: You are using pip version 21.2.4; however, version 22.1.1 is available.\n",
      "You should consider upgrading via the '/opt/anaconda3/bin/python -m pip install --upgrade pip' command.\u001b[0m\n"
     ]
    }
   ],
   "source": [
    "!pip install lightgbm"
   ]
  },
  {
   "cell_type": "code",
   "execution_count": 2,
   "id": "4862f792-c270-4ccb-b255-0197a60c0466",
   "metadata": {},
   "outputs": [],
   "source": [
    "import numpy as np\n",
    "import pandas as pd\n",
    "import matplotlib.pyplot as plt\n",
    "import seaborn as sns\n",
    "\n",
    "import lightgbm as lgb\n",
    "\n",
    "from sklearn.model_selection import train_test_split"
   ]
  },
  {
   "cell_type": "code",
   "execution_count": 3,
   "id": "a28dc1cc-8781-4e04-bdb0-e819676cec4a",
   "metadata": {},
   "outputs": [],
   "source": [
    "df = sns.load_dataset('titanic')\n",
    "# XGBoostと同じくLightGBMでは欠損値に対応できている\n",
    "# df = df.dropna()\n",
    "X = df.loc[:, (df.columns!='survived') & (df.columns!='alive')]\n",
    "X = pd.get_dummies(X, drop_first=True)\n",
    "y = df['survived']"
   ]
  },
  {
   "cell_type": "code",
   "execution_count": 4,
   "id": "9add738b-a9cb-4a84-ac93-8138775ed68f",
   "metadata": {},
   "outputs": [],
   "source": [
    "X_train, X_test, y_train, y_test = train_test_split(X, y, test_size=0.3, random_state=0)"
   ]
  },
  {
   "cell_type": "code",
   "execution_count": 5,
   "id": "3441f484-e865-49f4-9c7c-bda881ae5e0d",
   "metadata": {},
   "outputs": [],
   "source": [
    "# 学習\n",
    "model = lgb.LGBMClassifier(boosting_type='goss', max_depth=5, random_state=0)"
   ]
  },
  {
   "cell_type": "code",
   "execution_count": 6,
   "id": "61f5ffea-1e77-4822-88b3-3e842e144e0b",
   "metadata": {},
   "outputs": [
    {
     "name": "stdout",
     "output_type": "stream",
     "text": [
      "[1]\tvalid_0's binary_logloss: 0.618911\n",
      "Training until validation scores don't improve for 10 rounds\n",
      "[2]\tvalid_0's binary_logloss: 0.585485\n",
      "[3]\tvalid_0's binary_logloss: 0.558875\n",
      "[4]\tvalid_0's binary_logloss: 0.537704\n",
      "[5]\tvalid_0's binary_logloss: 0.519073\n",
      "[6]\tvalid_0's binary_logloss: 0.503079\n",
      "[7]\tvalid_0's binary_logloss: 0.489481\n",
      "[8]\tvalid_0's binary_logloss: 0.478097\n",
      "[9]\tvalid_0's binary_logloss: 0.468913\n",
      "[10]\tvalid_0's binary_logloss: 0.46083\n",
      "[11]\tvalid_0's binary_logloss: 0.454961\n",
      "[12]\tvalid_0's binary_logloss: 0.448297\n",
      "[13]\tvalid_0's binary_logloss: 0.443706\n",
      "[14]\tvalid_0's binary_logloss: 0.439395\n",
      "[15]\tvalid_0's binary_logloss: 0.43847\n",
      "[16]\tvalid_0's binary_logloss: 0.439082\n",
      "[17]\tvalid_0's binary_logloss: 0.436798\n",
      "[18]\tvalid_0's binary_logloss: 0.434473\n",
      "[19]\tvalid_0's binary_logloss: 0.43018\n",
      "[20]\tvalid_0's binary_logloss: 0.428601\n",
      "[21]\tvalid_0's binary_logloss: 0.426797\n",
      "[22]\tvalid_0's binary_logloss: 0.426168\n",
      "[23]\tvalid_0's binary_logloss: 0.423197\n",
      "[24]\tvalid_0's binary_logloss: 0.420837\n",
      "[25]\tvalid_0's binary_logloss: 0.420845\n",
      "[26]\tvalid_0's binary_logloss: 0.418457\n",
      "[27]\tvalid_0's binary_logloss: 0.420662\n",
      "[28]\tvalid_0's binary_logloss: 0.420342\n",
      "[29]\tvalid_0's binary_logloss: 0.41802\n",
      "[30]\tvalid_0's binary_logloss: 0.41796\n",
      "[31]\tvalid_0's binary_logloss: 0.416734\n",
      "[32]\tvalid_0's binary_logloss: 0.417204\n",
      "[33]\tvalid_0's binary_logloss: 0.417792\n",
      "[34]\tvalid_0's binary_logloss: 0.41984\n",
      "[35]\tvalid_0's binary_logloss: 0.418576\n",
      "[36]\tvalid_0's binary_logloss: 0.41603\n",
      "[37]\tvalid_0's binary_logloss: 0.41481\n",
      "[38]\tvalid_0's binary_logloss: 0.41521\n",
      "[39]\tvalid_0's binary_logloss: 0.415707\n",
      "[40]\tvalid_0's binary_logloss: 0.417128\n",
      "[41]\tvalid_0's binary_logloss: 0.415206\n",
      "[42]\tvalid_0's binary_logloss: 0.414606\n",
      "[43]\tvalid_0's binary_logloss: 0.413992\n",
      "[44]\tvalid_0's binary_logloss: 0.413735\n",
      "[45]\tvalid_0's binary_logloss: 0.414598\n",
      "[46]\tvalid_0's binary_logloss: 0.412977\n",
      "[47]\tvalid_0's binary_logloss: 0.414046\n",
      "[48]\tvalid_0's binary_logloss: 0.412529\n",
      "[49]\tvalid_0's binary_logloss: 0.412006\n",
      "[50]\tvalid_0's binary_logloss: 0.413007\n",
      "[51]\tvalid_0's binary_logloss: 0.413289\n",
      "[52]\tvalid_0's binary_logloss: 0.413501\n",
      "[53]\tvalid_0's binary_logloss: 0.413776\n",
      "[54]\tvalid_0's binary_logloss: 0.413954\n",
      "[55]\tvalid_0's binary_logloss: 0.412619\n",
      "[56]\tvalid_0's binary_logloss: 0.413491\n",
      "[57]\tvalid_0's binary_logloss: 0.414707\n",
      "[58]\tvalid_0's binary_logloss: 0.413957\n",
      "[59]\tvalid_0's binary_logloss: 0.415021\n",
      "Early stopping, best iteration is:\n",
      "[49]\tvalid_0's binary_logloss: 0.412006\n"
     ]
    },
    {
     "data": {
      "text/plain": [
       "LGBMClassifier(boosting_type='goss', max_depth=5, random_state=0)"
      ]
     },
     "execution_count": 6,
     "metadata": {},
     "output_type": "execute_result"
    }
   ],
   "source": [
    "eval_set = [(X_test, y_test)]\n",
    "callbacks = []\n",
    "callbacks.append(lgb.early_stopping(stopping_rounds=10))\n",
    "callbacks.append(lgb.log_evaluation())\n",
    "model.fit(X_train, y_train, eval_set=eval_set, callbacks=callbacks)"
   ]
  },
  {
   "cell_type": "code",
   "execution_count": 7,
   "id": "323099a7-1e6f-422f-92ed-37d2abc6cf8c",
   "metadata": {},
   "outputs": [
    {
     "data": {
      "text/plain": [
       "0.4120060817703395"
      ]
     },
     "execution_count": 7,
     "metadata": {},
     "output_type": "execute_result"
    }
   ],
   "source": [
    "# 予測と評価\n",
    "from sklearn import metrics\n",
    "y_pred = model.predict_proba(X_test)\n",
    "metrics.log_loss(y_test, y_pred)"
   ]
  },
  {
   "cell_type": "code",
   "execution_count": 8,
   "id": "0c6fc62a-c126-4604-88ac-24650521aa58",
   "metadata": {},
   "outputs": [
    {
     "data": {
      "text/plain": [
       "<AxesSubplot:title={'center':'Metric during training'}, xlabel='Iterations', ylabel='binary_logloss'>"
      ]
     },
     "execution_count": 8,
     "metadata": {},
     "output_type": "execute_result"
    },
    {
     "data": {
      "image/png": "[encoded data removed]",
      "text/plain": [
       "<Figure size 432x288 with 1 Axes>"
      ]
     },
     "metadata": {
      "needs_background": "light"
     },
     "output_type": "display_data"
    }
   ],
   "source": [
    "# 学習曲線\n",
    "lgb.plot_metric(model)"
   ]
  },
  {
   "cell_type": "code",
   "execution_count": 9,
   "id": "58102fd5-102d-4e1a-b433-788308c40bb3",
   "metadata": {},
   "outputs": [
    {
     "data": {
      "text/plain": [
       "<AxesSubplot:title={'center':'Feature importance'}, xlabel='Feature importance', ylabel='Features'>"
      ]
     },
     "execution_count": 9,
     "metadata": {},
     "output_type": "execute_result"
    },
    {
     "data": {
      "image/png": "[encoded data removed]",
      "text/plain": [
       "<Figure size 432x288 with 1 Axes>"
      ]
     },
     "metadata": {
      "needs_background": "light"
     },
     "output_type": "display_data"
    }
   ],
   "source": [
    "# 特徴量の重要度\n",
    "lgb.plot_importance(model)"
   ]
  },
  {
   "cell_type": "code",
   "execution_count": null,
   "id": "58383106-4def-476c-b9f1-8ff4569d14b1",
   "metadata": {},
   "outputs": [],
   "source": []
  }
 ],
 "metadata": {
  "kernelspec": {
   "display_name": "Python 3",
   "language": "python",
   "name": "python3"
  },
  "language_info": {
   "codemirror_mode": {
    "name": "ipython",
    "version": 3
   },
   "file_extension": ".py",
   "mimetype": "text/x-python",
   "name": "python",
   "nbconvert_exporter": "python",
   "pygments_lexer": "ipython3",
   "version": "3.8.8"
  }
 },
 "nbformat": 4,
 "nbformat_minor": 5
}
