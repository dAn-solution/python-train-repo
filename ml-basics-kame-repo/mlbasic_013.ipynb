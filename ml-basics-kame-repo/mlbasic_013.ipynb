{
 "cells": [
  {
   "cell_type": "markdown",
   "id": "e981269b-84ac-488d-ab7e-dc2698a657c7",
   "metadata": {},
   "source": [
    "## かめさん講座　機械学習入門\n",
    "#### 23.多クラスのROCとAUC"
   ]
  },
  {
   "cell_type": "code",
   "execution_count": 1,
   "id": "8aa5af38-8ad0-4d95-8447-16550b90ec46",
   "metadata": {},
   "outputs": [],
   "source": [
    "import numpy as np\n",
    "import seaborn as sns\n",
    "from sklearn.linear_model import LogisticRegression\n",
    "from sklearn.model_selection import train_test_split"
   ]
  },
  {
   "cell_type": "code",
   "execution_count": 2,
   "id": "d5e9c5f1-cdf0-44f3-be70-f975ff046546",
   "metadata": {},
   "outputs": [],
   "source": [
    "# データロード\n",
    "df = sns.load_dataset('iris')\n",
    "# 学習データとテストデータ\n",
    "X = df.loc[:, df.columns!='species']\n",
    "y = df['species']\n",
    "X_train, X_test ,y_train, y_test = train_test_split(X, y, test_size=0.3, random_state=0)\n",
    "# モデル構築\n",
    "model = LogisticRegression()\n",
    "model.fit(X_train, y_train)\n",
    "# 予測（確率）\n",
    "y_pred_proba = model.predict_proba(X_test)"
   ]
  },
  {
   "cell_type": "code",
   "execution_count": 3,
   "id": "ee4946c3-0ffb-4f6e-9899-e909ec8f1fff",
   "metadata": {},
   "outputs": [
    {
     "name": "stdout",
     "output_type": "stream",
     "text": [
      "114     virginica\n",
      "62     versicolor\n",
      "33         setosa\n",
      "107     virginica\n",
      "7          setosa\n",
      "Name: species, dtype: object\n",
      "['setosa' 'versicolor' 'virginica']\n"
     ]
    },
    {
     "data": {
      "text/plain": [
       "array([[0, 0, 1],\n",
       "       [0, 1, 0],\n",
       "       [1, 0, 0],\n",
       "       [0, 0, 1],\n",
       "       [1, 0, 0]])"
      ]
     },
     "execution_count": 3,
     "metadata": {},
     "output_type": "execute_result"
    }
   ],
   "source": [
    "# one-hotエンコーディング\n",
    "print(y_test[:5])\n",
    "print(model.classes_)\n",
    "\n",
    "from sklearn.preprocessing import label_binarize\n",
    "y_test_one_hot = label_binarize(y_test, classes=model.classes_)\n",
    "y_test_one_hot[:5]"
   ]
  },
  {
   "cell_type": "code",
   "execution_count": 4,
   "id": "80a75edd-d539-44fe-8352-423c1254b19d",
   "metadata": {},
   "outputs": [],
   "source": [
    "from sklearn.metrics import roc_curve, auc\n",
    "n_classes = 3\n",
    "fpr = {}\n",
    "tpr = {}\n",
    "roc_auc = {}\n",
    "for i in range(n_classes):\n",
    "    fpr[i], tpr[i], _ = roc_curve(y_test_one_hot[:, i], y_pred_proba[:, i])\n",
    "    roc_auc[i] = auc(fpr[i], tpr[i])"
   ]
  },
  {
   "cell_type": "code",
   "execution_count": 5,
   "id": "4cb713f5-e481-4591-a8ca-94bd710424ab",
   "metadata": {},
   "outputs": [
    {
     "data": {
      "text/plain": [
       "<matplotlib.legend.Legend at 0x7fde6d396490>"
      ]
     },
     "execution_count": 5,
     "metadata": {},
     "output_type": "execute_result"
    },
    {
     "data": {
      "image/png": "[encoded data removed]",
      "text/plain": [
       "<Figure size 432x288 with 1 Axes>"
      ]
     },
     "metadata": {
      "needs_background": "light"
     },
     "output_type": "display_data"
    }
   ],
   "source": [
    "import matplotlib.pyplot as plt\n",
    "%matplotlib inline\n",
    "\n",
    "for i in range(n_classes):\n",
    "    plt.plot(fpr[i], tpr[i], label=f'class: {i}')\n",
    "plt.legend()"
   ]
  },
  {
   "cell_type": "code",
   "execution_count": 6,
   "id": "90e25501-1dc5-4b2e-8f48-25a038b0f487",
   "metadata": {},
   "outputs": [
    {
     "data": {
      "text/plain": [
       "array([0.        , 0.02941176, 0.07407407, 1.        ])"
      ]
     },
     "execution_count": 6,
     "metadata": {},
     "output_type": "execute_result"
    }
   ],
   "source": [
    "all_fpr = np.unique(np.concatenate([fpr[i] for i in range(n_classes)]))\n",
    "all_fpr"
   ]
  },
  {
   "cell_type": "code",
   "execution_count": 10,
   "id": "e27a428e-8ad7-4776-a26d-6c163662a9a9",
   "metadata": {},
   "outputs": [
    {
     "name": "stdout",
     "output_type": "stream",
     "text": [
      "[0 1 2 3 4 5 6]\n",
      "[0.         1.         2.         2.66666667 3.33333333 4.\n",
      " 6.        ]\n"
     ]
    }
   ],
   "source": [
    "all_x = np.arange(7)\n",
    "print(all_x)\n",
    "data_x = [0, 2, 5, 6]\n",
    "data_y = [0, 2, 4, 6]\n",
    "print(np.interp(all_x, data_x, data_y))"
   ]
  },
  {
   "cell_type": "code",
   "execution_count": 15,
   "id": "12c67e4e-d590-4b1d-9ed3-dc8b07b5a3bf",
   "metadata": {},
   "outputs": [
    {
     "name": "stdout",
     "output_type": "stream",
     "text": [
      "[0. 0. 0. 0.]\n",
      "[0.         0.02941176 0.07407407 1.        ]\n",
      "[0. 0. 0. 1.]\n",
      "[0.     0.0625 1.     1.    ]\n",
      "[1. 1. 1. 1.]\n",
      "[0.         0.         0.         0.07407407 0.07407407 1.        ]\n",
      "[0.         0.05555556 0.94444444 0.94444444 1.         1.        ]\n",
      "[0.94444444 0.94444444 1.         1.        ]\n",
      "[0.         0.         0.         0.02941176 0.02941176 1.        ]\n",
      "[0.         0.09090909 0.81818182 0.81818182 1.         1.        ]\n",
      "[0.81818182 1.         1.         1.        ]\n"
     ]
    },
    {
     "data": {
      "text/plain": [
       "array([0.92087542, 0.98148148, 1.        , 1.        ])"
      ]
     },
     "execution_count": 15,
     "metadata": {},
     "output_type": "execute_result"
    }
   ],
   "source": [
    "mean_tpr = np.zeros_like(all_fpr)\n",
    "print(mean_tpr)\n",
    "print(all_fpr)\n",
    "for i in range(n_classes):\n",
    "    mean_tpr += np.interp(all_fpr, fpr[i], tpr[i])\n",
    "    print(fpr[i])\n",
    "    print(tpr[i])\n",
    "    print(np.interp(all_fpr, fpr[i], tpr[i]))\n",
    "mean_tpr = mean_tpr / len(model.classes_)\n",
    "mean_tpr"
   ]
  },
  {
   "cell_type": "code",
   "execution_count": 17,
   "id": "e982e22f-a91e-4733-a571-885bb140c036",
   "metadata": {},
   "outputs": [
    {
     "data": {
      "text/plain": [
       "<matplotlib.legend.Legend at 0x7fde3fcfdd30>"
      ]
     },
     "execution_count": 17,
     "metadata": {},
     "output_type": "execute_result"
    },
    {
     "data": {
      "image/png": "[encoded data removed]",
      "text/plain": [
       "<Figure size 432x288 with 1 Axes>"
      ]
     },
     "metadata": {
      "needs_background": "light"
     },
     "output_type": "display_data"
    }
   ],
   "source": [
    "plt.plot(all_fpr, mean_tpr, label='macro')\n",
    "plt.legend()"
   ]
  },
  {
   "cell_type": "code",
   "execution_count": 18,
   "id": "7ce51fe3-38f8-441d-8d87-9d667bec7923",
   "metadata": {},
   "outputs": [
    {
     "data": {
      "text/plain": [
       "0.9981505321919265"
      ]
     },
     "execution_count": 18,
     "metadata": {},
     "output_type": "execute_result"
    }
   ],
   "source": [
    "auc(all_fpr, mean_tpr)"
   ]
  },
  {
   "cell_type": "code",
   "execution_count": 19,
   "id": "b68c28d5-c088-438d-adde-f315d2d24aaf",
   "metadata": {},
   "outputs": [
    {
     "data": {
      "text/plain": [
       "<matplotlib.legend.Legend at 0x7fde3fcc3af0>"
      ]
     },
     "execution_count": 19,
     "metadata": {},
     "output_type": "execute_result"
    },
    {
     "data": {
      "image/png": "[encoded data removed]",
      "text/plain": [
       "<Figure size 432x288 with 1 Axes>"
      ]
     },
     "metadata": {
      "needs_background": "light"
     },
     "output_type": "display_data"
    }
   ],
   "source": [
    "fpr[\"macro\"] = all_fpr\n",
    "tpr[\"macro\"] = mean_tpr\n",
    "roc_auc[\"macro\"] = auc(fpr[\"macro\"], tpr[\"macro\"])\n",
    "\n",
    "for i in range(n_classes):\n",
    "    plt.plot(fpr[i], tpr[i], label=f'class: {i}')\n",
    "plt.plot(fpr['macro'], tpr['macro'], label='macro')\n",
    "plt.legend()"
   ]
  },
  {
   "cell_type": "code",
   "execution_count": 20,
   "id": "136bdc25-00cd-41f6-9fa7-6a52f0a6bc76",
   "metadata": {},
   "outputs": [],
   "source": [
    "# microei 平均\n",
    "fpr['micro'], tpr['micro'], _ = roc_curve(y_test_one_hot.ravel(), y_pred_proba.ravel())\n",
    "roc_auc[\"micro\"] = auc(fpr[\"micro\"], tpr[\"micro\"])"
   ]
  },
  {
   "cell_type": "code",
   "execution_count": 21,
   "id": "5dd87c77-5066-44d9-a226-2c92db23ddf5",
   "metadata": {},
   "outputs": [
    {
     "data": {
      "text/plain": [
       "<matplotlib.legend.Legend at 0x7fde3fc40100>"
      ]
     },
     "execution_count": 21,
     "metadata": {},
     "output_type": "execute_result"
    },
    {
     "data": {
      "image/png": "[encoded data removed]",
      "text/plain": [
       "<Figure size 432x288 with 1 Axes>"
      ]
     },
     "metadata": {
      "needs_background": "light"
     },
     "output_type": "display_data"
    }
   ],
   "source": [
    "for i in range(n_classes):\n",
    "    plt.plot(fpr[i], tpr[i], label=f'class: {i}')\n",
    "plt.plot(fpr['macro'], tpr['macro'], label='macro')\n",
    "plt.plot(fpr['micro'], tpr['micro'], label='micro')\n",
    "plt.legend()"
   ]
  },
  {
   "cell_type": "code",
   "execution_count": 22,
   "id": "66540d08-7889-4fb7-be88-687b13fa790e",
   "metadata": {},
   "outputs": [
    {
     "data": {
      "text/plain": [
       "<matplotlib.legend.Legend at 0x7fde3fb9d610>"
      ]
     },
     "execution_count": 22,
     "metadata": {},
     "output_type": "execute_result"
    },
    {
     "data": {
      "image/png": "[encoded data removed]",
      "text/plain": [
       "<Figure size 432x288 with 1 Axes>"
      ]
     },
     "metadata": {
      "needs_background": "light"
     },
     "output_type": "display_data"
    }
   ],
   "source": [
    "plt.plot(fpr['micro'], tpr['micro'], label='micro')\n",
    "plt.legend()"
   ]
  },
  {
   "cell_type": "code",
   "execution_count": 23,
   "id": "1e28bb20-f0e3-4340-8e25-393c48b633ba",
   "metadata": {},
   "outputs": [
    {
     "name": "stdout",
     "output_type": "stream",
     "text": [
      "0.9982716049382716\n"
     ]
    }
   ],
   "source": [
    "print(auc(fpr['micro'], tpr['micro']))"
   ]
  },
  {
   "cell_type": "code",
   "execution_count": null,
   "id": "ad791548-523b-44b6-904a-ca5670b2e388",
   "metadata": {},
   "outputs": [],
   "source": []
  }
 ],
 "metadata": {
  "kernelspec": {
   "display_name": "Python 3",
   "language": "python",
   "name": "python3"
  },
  "language_info": {
   "codemirror_mode": {
    "name": "ipython",
    "version": 3
   },
   "file_extension": ".py",
   "mimetype": "text/x-python",
   "name": "python",
   "nbconvert_exporter": "python",
   "pygments_lexer": "ipython3",
   "version": "3.8.8"
  }
 },
 "nbformat": 4,
 "nbformat_minor": 5
}
