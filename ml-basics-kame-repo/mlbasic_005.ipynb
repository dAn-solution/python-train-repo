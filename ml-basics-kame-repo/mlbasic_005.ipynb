{
 "cells": [
  {
   "cell_type": "markdown",
   "id": "7d420f72-09bb-45e8-8bfa-9a8001b24663",
   "metadata": {},
   "source": [
    "## かめさん講座　機械学習入門\n",
    "#### 9.k-Fold Cross Validation(交差検証)"
   ]
  },
  {
   "cell_type": "code",
   "execution_count": 1,
   "id": "13cba38f-48e7-4e80-99c0-46073e14b9d8",
   "metadata": {},
   "outputs": [],
   "source": [
    "import numpy as np\n",
    "import seaborn as sns\n",
    "df = sns.load_dataset('tips')\n",
    "X = df['total_bill'].values.reshape(-1, 1)\n",
    "y = df['tip'].values"
   ]
  },
  {
   "cell_type": "code",
   "execution_count": 5,
   "id": "0ed797bc-09c3-4ca6-a381-bc16b35a1c9e",
   "metadata": {},
   "outputs": [],
   "source": [
    "from sklearn.linear_model import LinearRegression"
   ]
  },
  {
   "cell_type": "code",
   "execution_count": 9,
   "id": "95bceba0-ffd2-40d6-adf2-336fae9b2429",
   "metadata": {},
   "outputs": [
    {
     "name": "stdout",
     "output_type": "stream",
     "text": [
      "MSE(5FoldCV): 1.0802110883943916\n",
      "std: 0.16170100507039512\n"
     ]
    }
   ],
   "source": [
    "# k-Fold\n",
    "from sklearn.model_selection import KFold\n",
    "cv = KFold(n_splits=5, random_state=0, shuffle=True)\n",
    "model = LinearRegression()\n",
    "mse_list = []\n",
    "for train_index, test_index in cv.split(X):\n",
    "    # get train and test data\n",
    "    X_train, X_test = X[train_index], X[test_index]\n",
    "    y_train, y_test = y[train_index], y[test_index]\n",
    "    # fit model\n",
    "    model.fit(X_train, y_train)\n",
    "    # predict test data\n",
    "    y_pred = model.predict(X_test)\n",
    "    # loss\n",
    "    mse = np.mean((y_test - y_pred)**2)\n",
    "    mse_list.append(mse)\n",
    "print(f'MSE(5FoldCV): {np.mean(mse_list)}')\n",
    "print(f'std: {np.std(mse_list)}')"
   ]
  },
  {
   "cell_type": "code",
   "execution_count": 10,
   "id": "0d05ffff-e28e-4805-b150-53dace4a6814",
   "metadata": {},
   "outputs": [],
   "source": [
    "# cross_val_score\n",
    "from sklearn.model_selection import cross_val_score\n",
    "scores = cross_val_score(model, X, y, \n",
    "                        scoring='neg_mean_squared_error',\n",
    "                        cv=cv, n_jobs=-1)"
   ]
  },
  {
   "cell_type": "code",
   "execution_count": 11,
   "id": "5417cccc-940e-4973-b3c2-9266ee51052b",
   "metadata": {},
   "outputs": [
    {
     "data": {
      "text/plain": [
       "-1.0802110883943918"
      ]
     },
     "execution_count": 11,
     "metadata": {},
     "output_type": "execute_result"
    }
   ],
   "source": [
    "np.mean(scores)"
   ]
  },
  {
   "cell_type": "code",
   "execution_count": null,
   "id": "1df14e8b-ee5e-4c08-9fc6-20c5ebb17308",
   "metadata": {},
   "outputs": [],
   "source": []
  }
 ],
 "metadata": {
  "kernelspec": {
   "display_name": "Python 3",
   "language": "python",
   "name": "python3"
  },
  "language_info": {
   "codemirror_mode": {
    "name": "ipython",
    "version": 3
   },
   "file_extension": ".py",
   "mimetype": "text/x-python",
   "name": "python",
   "nbconvert_exporter": "python",
   "pygments_lexer": "ipython3",
   "version": "3.8.8"
  }
 },
 "nbformat": 4,
 "nbformat_minor": 5
}
