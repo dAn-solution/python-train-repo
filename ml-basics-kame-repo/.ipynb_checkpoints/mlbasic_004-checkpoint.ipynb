{
 "cells": [
  {
   "cell_type": "markdown",
   "id": "913a809e-2772-4731-afaa-192491e3d8ee",
   "metadata": {},
   "source": [
    "## かめさん講座　機械学習入門\n",
    "#### 7.過学習と汎化性能\n",
    "#### 8.LOOCVについて解説"
   ]
  },
  {
   "cell_type": "code",
   "execution_count": 8,
   "id": "955f10f4-0bcb-42eb-bf48-459fa9e64acf",
   "metadata": {},
   "outputs": [],
   "source": [
    "# import\n",
    "import numpy as np\n",
    "import pandas as pd\n",
    "import matplotlib.pyplot as plt\n",
    "%matplotlib inline\n",
    "import seaborn as sns\n",
    "\n",
    "from scipy import stats\n",
    "from sklearn.model_selection import train_test_split\n",
    "from sklearn.model_selection import LeaveOneOut\n",
    "from sklearn.linear_model import LinearRegression"
   ]
  },
  {
   "cell_type": "code",
   "execution_count": 3,
   "id": "001bd28a-740d-476c-a416-27116cc79d90",
   "metadata": {},
   "outputs": [],
   "source": [
    "# dataset\n",
    "df = sns.load_dataset('diamonds')\n",
    "df = df[(df[['x', 'y', 'z']] != 0).all(axis=1)]\n",
    "X = df['carat'].values.reshape(-1, 1)\n",
    "y = df['price'].values"
   ]
  },
  {
   "cell_type": "code",
   "execution_count": 6,
   "id": "0ebb4f06-baf1-48ea-8b6b-d4086821d885",
   "metadata": {},
   "outputs": [],
   "source": [
    "# hold-out法\n",
    "X_train, X_test, y_train, t_test = train_test_split(X, y, test_size=0.3, shuffle=True, random_state=0)"
   ]
  },
  {
   "cell_type": "code",
   "execution_count": 7,
   "id": "c9dd5503-8dd7-4c14-b2b7-8ac350a04612",
   "metadata": {},
   "outputs": [],
   "source": [
    "# 学習データのみでモデルを構築\n",
    "model = LinearRegression()\n",
    "model.fit(X_train, y_train)\n",
    "y_pred = model.predict(X_test)"
   ]
  },
  {
   "cell_type": "markdown",
   "id": "070eb75c-fab2-4df8-9b73-34ee0deb4a89",
   "metadata": {},
   "source": [
    "#### LOOCV"
   ]
  },
  {
   "cell_type": "code",
   "execution_count": 9,
   "id": "4552b70b-df01-46f7-8faa-bcc0f7bdb9ea",
   "metadata": {},
   "outputs": [],
   "source": [
    "df = sns.load_dataset('tips')\n",
    "X = df['total_bill'].values.reshape(-1, 1)\n",
    "y = df['tip'].values"
   ]
  },
  {
   "cell_type": "code",
   "execution_count": 12,
   "id": "7713738a-c7bf-406f-88c4-a38ed3c6414f",
   "metadata": {},
   "outputs": [],
   "source": [
    "loo = LeaveOneOut()\n",
    "# for train_index, test_index in loo.split(X):\n",
    "#     print('train_index:', train_index, 'test_index:', test_index)"
   ]
  },
  {
   "cell_type": "code",
   "execution_count": null,
   "id": "93d24c07-0192-4837-8611-d07a52ca57e9",
   "metadata": {},
   "outputs": [],
   "source": [
    "# all\n",
    "from sklearn.linear_model import LinearRegression\n",
    "from sklearn.model_selection import LeaveOneOut\n",
    "loo = LeaveOneOut()\n",
    "model = LinearRegression()\n",
    "mse_list = []\n",
    "for train_index, test_index in loo.split(X):\n",
    "    X_train, X_test = X[train_index], X[test_index]\n",
    "    y_train, y_test = y[train_index], y[test_index]\n",
    "    # fit model\n",
    "    model.fit(X_train, y_train)\n",
    "    "
   ]
  }
 ],
 "metadata": {
  "kernelspec": {
   "display_name": "Python 3",
   "language": "python",
   "name": "python3"
  },
  "language_info": {
   "codemirror_mode": {
    "name": "ipython",
    "version": 3
   },
   "file_extension": ".py",
   "mimetype": "text/x-python",
   "name": "python",
   "nbconvert_exporter": "python",
   "pygments_lexer": "ipython3",
   "version": "3.8.8"
  }
 },
 "nbformat": 4,
 "nbformat_minor": 5
}
